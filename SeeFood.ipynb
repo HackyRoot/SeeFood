{
  "nbformat": 4,
  "nbformat_minor": 0,
  "metadata": {
    "colab": {
      "name": "SeeFood.ipynb",
      "provenance": [],
      "authorship_tag": "ABX9TyMRhg1fCdkUI64BdiyU8ypN",
      "include_colab_link": true
    },
    "kernelspec": {
      "name": "python3",
      "display_name": "Python 3"
    }
  },
  "cells": [
    {
      "cell_type": "markdown",
      "metadata": {
        "id": "view-in-github",
        "colab_type": "text"
      },
      "source": [
        "<a href=\"https://colab.research.google.com/github/HackyRoot/SeeFood/blob/master/SeeFood.ipynb\" target=\"_parent\"><img src=\"https://colab.research.google.com/assets/colab-badge.svg\" alt=\"Open In Colab\"/></a>"
      ]
    },
    {
      "cell_type": "markdown",
      "metadata": {
        "id": "Gysw5GS6kUX5",
        "colab_type": "text"
      },
      "source": [
        "# SeeFood"
      ]
    },
    {
      "cell_type": "markdown",
      "metadata": {
        "id": "am5rSCuckWx2",
        "colab_type": "text"
      },
      "source": [
        "## Import packages"
      ]
    },
    {
      "cell_type": "code",
      "metadata": {
        "id": "qPdOeG0kkLNq",
        "colab_type": "code",
        "colab": {}
      },
      "source": [
        "import tensorflow as tf"
      ],
      "execution_count": 0,
      "outputs": []
    },
    {
      "cell_type": "code",
      "metadata": {
        "id": "kA-Ierh1lBl2",
        "colab_type": "code",
        "colab": {}
      },
      "source": [
        "from tensorflow.keras.models import Sequential\n",
        "from tensorflow.keras.layers import Dense, Conv2D, Flatten, Dropout, MaxPooling2D\n",
        "from tensorflow.keras.preprocessing.image import ImageDataGenerator"
      ],
      "execution_count": 0,
      "outputs": []
    },
    {
      "cell_type": "code",
      "metadata": {
        "id": "XKScMfULlHEP",
        "colab_type": "code",
        "colab": {}
      },
      "source": [
        "import os\n",
        "import numpy as np\n",
        "import matplotlib.pyplot as plt"
      ],
      "execution_count": 0,
      "outputs": []
    },
    {
      "cell_type": "markdown",
      "metadata": {
        "id": "d69jqoaImcrw",
        "colab_type": "text"
      },
      "source": [
        "## Load data\n",
        "\n",
        "Source: https://www.kaggle.com/dansbecker/hot-dog-not-hot-dog"
      ]
    },
    {
      "cell_type": "code",
      "metadata": {
        "id": "o9ahShJ3lJ9i",
        "colab_type": "code",
        "colab": {
          "base_uri": "https://localhost:8080/",
          "height": 260
        },
        "outputId": "e5b488e1-f2f6-49e7-8dae-6dce6a1d0cdf"
      },
      "source": [
        "!wget https://raw.githubusercontent.com/HackyRoot/SeeFood/master/data.zip\n",
        "!unzip data.zip\n",
        "!rm data.zip*\n",
        "!ls"
      ],
      "execution_count": 11,
      "outputs": [
        {
          "output_type": "stream",
          "text": [
            "--2020-06-05 03:53:48--  https://raw.githubusercontent.com/HackyRoot/SeeFood/master/data.zip\n",
            "Resolving raw.githubusercontent.com (raw.githubusercontent.com)... 151.101.0.133, 151.101.64.133, 151.101.128.133, ...\n",
            "Connecting to raw.githubusercontent.com (raw.githubusercontent.com)|151.101.0.133|:443... connected.\n",
            "HTTP request sent, awaiting response... 200 OK\n",
            "Length: 46841867 (45M) [application/zip]\n",
            "Saving to: ‘data.zip’\n",
            "\n",
            "\rdata.zip              0%[                    ]       0  --.-KB/s               \rdata.zip              5%[>                   ]   2.47M  12.3MB/s               \rdata.zip             19%[==>                 ]   8.83M  22.0MB/s               \rdata.zip             56%[==========>         ]  25.26M  42.0MB/s               \rdata.zip            100%[===================>]  44.67M  62.3MB/s    in 0.7s    \n",
            "\n",
            "2020-06-05 03:53:49 (62.3 MB/s) - ‘data.zip’ saved [46841867/46841867]\n",
            "\n",
            "Archive:  data.zip\n",
            "replace data/val/hot_dog/527633.jpg? [y]es, [n]o, [A]ll, [N]one, [r]ename: N\n",
            "data  sample_data\n"
          ],
          "name": "stdout"
        }
      ]
    },
    {
      "cell_type": "code",
      "metadata": {
        "id": "tZehEL2JmgzW",
        "colab_type": "code",
        "colab": {}
      },
      "source": [
        "data_dir = 'data/'"
      ],
      "execution_count": 0,
      "outputs": []
    },
    {
      "cell_type": "code",
      "metadata": {
        "id": "XGPL973OmsLa",
        "colab_type": "code",
        "colab": {
          "base_uri": "https://localhost:8080/",
          "height": 34
        },
        "outputId": "774aac4e-abb5-412e-e004-f26e9a9bc7bc"
      },
      "source": [
        "!ls data/train"
      ],
      "execution_count": 13,
      "outputs": [
        {
          "output_type": "stream",
          "text": [
            "hot_dog  not_hot_dog\n"
          ],
          "name": "stdout"
        }
      ]
    },
    {
      "cell_type": "code",
      "metadata": {
        "id": "2Ru1O2u3m1gV",
        "colab_type": "code",
        "colab": {}
      },
      "source": [
        "train_dir = os.path.join(data_dir, 'train')\n",
        "val_dir = os.path.join(data_dir, 'val')"
      ],
      "execution_count": 0,
      "outputs": []
    },
    {
      "cell_type": "code",
      "metadata": {
        "id": "VeJkgB7mnlG3",
        "colab_type": "code",
        "colab": {}
      },
      "source": [
        "train_hotdog_dir = os.path.join(train_dir, 'hot_dog')\n",
        "val_hotdog_dir = os.path.join(val_dir, 'hot_dog')\n",
        "\n",
        "train_not_hotdog_dir = os.path.join(train_dir, 'not_hot_dog')\n",
        "val_not_hotdog_dir = os.path.join(val_dir, 'not_hot_dog')"
      ],
      "execution_count": 0,
      "outputs": []
    },
    {
      "cell_type": "code",
      "metadata": {
        "id": "D9ghnb11noHC",
        "colab_type": "code",
        "colab": {}
      },
      "source": [
        ""
      ],
      "execution_count": 0,
      "outputs": []
    }
  ]
}